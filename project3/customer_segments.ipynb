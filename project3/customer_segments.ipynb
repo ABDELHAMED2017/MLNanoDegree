{
 "cells": [
  {
   "cell_type": "markdown",
   "metadata": {},
   "source": [
    "# Creating Customer Segments"
   ]
  },
  {
   "cell_type": "markdown",
   "metadata": {},
   "source": [
    "In this project you, will analyze a dataset containing annual spending amounts for internal structure, to understand the variation in the different types of customers that a wholesale distributor interacts with.\n",
    "\n",
    "Instructions:\n",
    "\n",
    "- Run each code block below by pressing **Shift+Enter**, making sure to implement any steps marked with a TODO.\n",
    "- Answer each question in the space provided by editing the blocks labeled \"Answer:\".\n",
    "- When you are done, submit the completed notebook (.ipynb) with all code blocks executed, as well as a .pdf version (File > Download as)."
   ]
  },
  {
   "cell_type": "code",
   "execution_count": 1,
   "metadata": {
    "collapsed": false
   },
   "outputs": [
    {
     "name": "stdout",
     "output_type": "stream",
     "text": [
      "Dataset has 440 rows, 6 columns\n",
      "   Fresh  Milk  Grocery  Frozen  Detergents_Paper  Delicatessen\n",
      "0  12669  9656     7561     214              2674          1338\n",
      "1   7057  9810     9568    1762              3293          1776\n",
      "2   6353  8808     7684    2405              3516          7844\n",
      "3  13265  1196     4221    6404               507          1788\n",
      "4  22615  5410     7198    3915              1777          5185\n"
     ]
    }
   ],
   "source": [
    "# Import libraries: NumPy, pandas, matplotlib\n",
    "import numpy as np\n",
    "import pandas as pd\n",
    "import matplotlib.pyplot as plt\n",
    "\n",
    "# Tell iPython to include plots inline in the notebook\n",
    "%matplotlib inline\n",
    "\n",
    "# Read dataset\n",
    "data = pd.read_csv(\"wholesale-customers.csv\")\n",
    "print \"Dataset has {} rows, {} columns\".format(*data.shape)\n",
    "print data.head()  # print the first 5 rows"
   ]
  },
  {
   "cell_type": "markdown",
   "metadata": {},
   "source": [
    "## Feature Transformation"
   ]
  },
  {
   "cell_type": "markdown",
   "metadata": {},
   "source": [
    "**1)** In this section you will be using PCA and ICA to start to understand the structure of the data. Before doing any computations, what do you think will show up in your computations? List one or two ideas for what might show up as the first PCA dimensions, or what type of vectors will show up as ICA dimensions."
   ]
  },
  {
   "cell_type": "markdown",
   "metadata": {},
   "source": [
    "Answer: In this dataset, we have 6 features corresponding to categories of grocery products. However, inspection of the dataset features as we have done above clearly reveals that there would be correlation among these features i.e., for e.g., same businesses are definitely likely to buy grocery and detergents and paper together.\n",
    "\n",
    "PCA can help us reveal any correlation structure, if it exists, among these 6 features. \n",
    "The first few principal component (PC) loading vectors might show which features are more correlated with each other, i.e., the PC loading vectors corresponding to each of the 6 features plotted along the PC axes would help us identify any correlated groups of features. \n",
    "\n",
    "ICA would be help us find a set of statistically independent features which are linear combinations of the given features to represent our dataset. The assumption is that the given features are statistically dependent and hence ICA finds a set of statistically independent features to represent the same dataset. "
   ]
  },
  {
   "cell_type": "markdown",
   "metadata": {},
   "source": [
    "### PCA"
   ]
  },
  {
   "cell_type": "code",
   "execution_count": 23,
   "metadata": {
    "collapsed": false
   },
   "outputs": [
    {
     "name": "stdout",
     "output_type": "stream",
     "text": [
      "[[-0.97653685 -0.12118407 -0.06154039 -0.15236462  0.00705417 -0.06810471]\n",
      " [-0.11061386  0.51580216  0.76460638 -0.01872345  0.36535076  0.05707921]\n",
      " [-0.17855726  0.50988675 -0.27578088  0.71420037 -0.20440987  0.28321747]\n",
      " [-0.04187648 -0.64564047  0.37546049  0.64629232  0.14938013 -0.02039579]\n",
      " [ 0.015986    0.20323566 -0.1602915   0.22018612  0.20793016 -0.91707659]\n",
      " [-0.01576316  0.03349187  0.41093894 -0.01328898 -0.87128428 -0.26541687]]\n",
      "[ 0.45961362  0.40517227  0.07003008  0.04402344  0.01502212  0.00613848]\n"
     ]
    }
   ],
   "source": [
    "# TODO: Apply PCA with the same number of dimensions as variables in the dataset\n",
    "from sklearn.decomposition import PCA\n",
    "#from sklearn import preprocessing\n",
    "#scaler = preprocessing.StandardScaler().fit(data)\n",
    "pca = PCA(n_components=data.shape[1], whiten=True)\n",
    "pca.fit(scaler.transform(data))\n",
    "pca.fit(data)\n",
    "# Print the components and the amount of variance in the data contained in each dimension\n",
    "print pca.components_\n",
    "print pca.explained_variance_ratio_"
   ]
  },
  {
   "cell_type": "markdown",
   "metadata": {},
   "source": [
    "**2)** How quickly does the variance drop off by dimension? If you were to use PCA on this dataset, how many dimensions would you choose for your analysis? Why?"
   ]
  },
  {
   "cell_type": "markdown",
   "metadata": {
    "collapsed": true
   },
   "source": [
    "Answer: The first two dimensions account for about 86.5% of the variance in the data. After the first two dimensions, the explained variance ratio drops off rapidly. This is shown in the plot below which shows the explained variance ratio as well as the rate of change of the explained variance ratio (first derivative, x[n] - x[n-1]). From the plot, we clearly see the dominance of the first two principal components. Hence the choice for the number of dimensions = 2 for PCA analysis on this dataset. "
   ]
  },
  {
   "cell_type": "code",
   "execution_count": 24,
   "metadata": {
    "collapsed": false
   },
   "outputs": [
    {
     "data": {
      "image/png": "[encoded data removed]",
      "text/plain": [
       "<matplotlib.figure.Figure at 0x10d8f9250>"
      ]
     },
     "metadata": {},
     "output_type": "display_data"
    }
   ],
   "source": [
    "fig_1 = plt.figure()\n",
    "plt.plot(pca.explained_variance_ratio_, '-sb', lw=1.5, label='Explained Variance Ratio')\n",
    "plt.plot(np.arange(1, 6), np.diff(pca.explained_variance_ratio_), '-or', lw=1.5, \n",
    "         label='Rate of Change of Explained Variance')\n",
    "\n",
    "plt.ylabel('Explained Variance Ratio/Rate of Change')\n",
    "plt.xlabel('Dimension')\n",
    "plt.grid(True, ls='-', which='both', color='0.85')\n",
    "plt.legend(loc=1)\n",
    "fig_1.axes[0].set_axisbelow(True)"
   ]
  },
  {
   "cell_type": "markdown",
   "metadata": {},
   "source": [
    "**3)** What do the dimensions seem to represent? How can you use this information?"
   ]
  },
  {
   "cell_type": "markdown",
   "metadata": {
    "collapsed": true
   },
   "source": [
    "Answer: To answer this question, we create a biplot (shown below) i.e., a plot showing the first two principal component loading vectors for all the 6 features (shown in blue) and the projections of each 6-dimensional sample vector onto the 2-d feature PC feature space (shown as red dots).  From the figure, we observe clearly that the 6 categories of products can be split up into two highly correlated groups. One group contains 'Grocery', 'Milk' and 'Detergents_Paper' products and the other contains 'Fresh Food', 'Frozen Food'. The first group corresponds to a larger projection onto the PC2 (vertical) axis and the second group corresponds to a larger projection onto the PC1 (horizontal) axis. \n",
    "\n",
    "We also observe from the figure that there is large number of customers that spend small amounts on both groups of grocery products. These are the points clustered around the right bottom corner (quadrant) of the figure. There are also few large volume customers who spend large amounts on either group of grocery products. These are the points to the left and top of the figure.  \n",
    "\n",
    "Thus PCA reveals to us that there clearly exists two kinds of customers in our dataset,\n",
    "* large businesses (fewer in count relatively)\n",
    "* smaller family run shops (larger number in count relatively)"
   ]
  },
  {
   "cell_type": "code",
   "execution_count": 61,
   "metadata": {
    "collapsed": false
   },
   "outputs": [
    {
     "data": {
      "image/png": "[encoded data removed]",
      "text/plain": [
       "<matplotlib.figure.Figure at 0x10e2b79d0>"
      ]
     },
     "metadata": {},
     "output_type": "display_data"
    }
   ],
   "source": [
    "# Get the first two principal components (vectors) \n",
    "# Assign randomly each component as X-axis and Y-axis of the plot\n",
    "xcomponent = pca.components_[0]\n",
    "ycomponent = pca.components_[1]\n",
    "\n",
    "#data_2d = PCA(n_components=2).fit_transform(scaler.transform(data))\n",
    "data_2d = pca.transform(data)\n",
    "\n",
    "# Plot the first two principal component loading vectors for each feature. \n",
    "fig_2 = plt.figure(figsize=[7.5, 4.5])\n",
    "for i in xrange(len(xcomponent)):\n",
    "    plt.arrow(0, 0, xcomponent[i], ycomponent[i], \n",
    "              color='b', width=0.005, head_width=0.025)\n",
    "    plt.text(xcomponent[i], ycomponent[i], \n",
    "             list(data.columns.values)[i], color='b', fontsize=13)\n",
    "    \n",
    "for i in xrange(data_2d.shape[0]):\n",
    "    plt.plot(data_2d[i, 0], data_2d[i, 1], '.r')\n",
    "\n",
    "plt.xlabel('PC1')\n",
    "plt.ylabel('PC2')\n",
    "plt.xlim([-1.2, 1.0])\n",
    "plt.ylim([-1, 2.0])\n",
    "plt.grid(True, ls='-', color='0.85')\n",
    "fig_2.axes[0].set_axisbelow(True)"
   ]
  },
  {
   "cell_type": "markdown",
   "metadata": {},
   "source": [
    "### ICA"
   ]
  },
  {
   "cell_type": "code",
   "execution_count": 44,
   "metadata": {
    "collapsed": false
   },
   "outputs": [
    {
     "name": "stdout",
     "output_type": "stream",
     "text": [
      "[[-0.00345674  0.01907846  0.10904733 -0.00724434 -0.133374   -0.01613569]\n",
      " [-0.00212768 -0.07210404  0.05623421  0.00163947 -0.01792309  0.01683208]\n",
      " [-0.00489462 -0.00167653 -0.00558616 -0.00253103  0.00243476  0.05097092]\n",
      " [-0.05025619  0.00662691  0.00698112  0.00323284 -0.01107771  0.00272178]\n",
      " [ 0.01090925  0.00105894 -0.00738772 -0.05405416  0.00258675  0.01676361]\n",
      " [-0.00248092  0.01354047 -0.06928268 -0.00143989  0.01316431  0.00506261]]\n"
     ]
    }
   ],
   "source": [
    "# TODO: Fit an ICA model to the data\n",
    "# Note: Adjust the data to have center at the origin first!\n",
    "from sklearn.decomposition import FastICA\n",
    "from sklearn import preprocessing\n",
    "scaler = preprocessing.StandardScaler().fit(data)\n",
    "ica = FastICA(n_components=data.shape[1], whiten=True)\n",
    "ica.fit(scaler.transform(data))\n",
    "# Print the independent components\n",
    "print ica.components_"
   ]
  },
  {
   "cell_type": "markdown",
   "metadata": {},
   "source": [
    "**4)** For each vector in the ICA decomposition, write a sentence or two explaining what sort of object or property it corresponds to. What could these components be used for?"
   ]
  },
  {
   "cell_type": "markdown",
   "metadata": {
    "collapsed": true
   },
   "source": [
    "Answer: The ICA components represent the set of independent basis vectors in the feature space (6 dimensions). All the feature vectors (corresponding to a particular customer sample, a row in our dataset) can be expressed as linear combinations of these 6 basis vectors. Each component of ICA represents the linear combination weights\n",
    "for the original features to obtain the independent source feature vectors. \n",
    "\n",
    "First ICA component   \n",
    "[-0.00345674  0.01907846  0.10904733 -0.00724434 -0.133374   -0.01613569]   \n",
    "corresponds to customers/businesses who are spending more on Grocery and Detergents_Paper.\n",
    "\n",
    "Second ICA component   \n",
    "[-0.00212768 -0.07210404  0.05623421  0.00163947 -0.01792309  0.01683208]  \n",
    "corresponds to customers/businesses who are spending more on Milk and Grocery.\n",
    "\n",
    "Third ICA component  \n",
    "[-0.00489462 -0.00167653 -0.00558616 -0.00253103  0.00243476  0.05097092]    \n",
    "clearly corresponds to a large amount of spending on Delicatessen. May be these customers are restaurants/delis.\n",
    "\n",
    "Fifth ICA component    \n",
    "[ 0.01090925  0.00105894 -0.00738772 -0.05405416  0.00258675  0.01676361]    \n",
    "corresponds to customers spending more on Fresh and Frozen food.   \n",
    "\n",
    "It is difficult to interpret the other ICA components."
   ]
  },
  {
   "cell_type": "markdown",
   "metadata": {},
   "source": [
    "## Clustering\n",
    "\n",
    "In this section you will choose either K Means clustering or Gaussian Mixed Models clustering, which implements expectation-maximization. Then you will sample elements from the clusters to understand their significance."
   ]
  },
  {
   "cell_type": "markdown",
   "metadata": {},
   "source": [
    "### Choose a Cluster Type\n",
    "\n",
    "**5)** What are the advantages of using K Means clustering or Gaussian Mixture Models?"
   ]
  },
  {
   "cell_type": "markdown",
   "metadata": {},
   "source": [
    "Answer: KMeans is a low complexity clustering technique based on Llyod's algorithm. It is based on an optimization problem whose objective function uses the L2 norm. This makes it more biased towards spherical clusters. Moreover, KMeans makes a hard assignment of the data points to a cluster. \n",
    "\n",
    "GMMs use the EM algorithm which is based on optimization using probabilities instead of distance metrics. It performs soft assignment that is it provides the probability of any given point belonging to a particular centroid. \n",
    "\n",
    "KMeans is a particular instance of the EM algorithm when the data has a diagonal covariance matrix. That is the features are uncorrelated. In this project, we want to perform clustering on the PCA reduced features, which are uncorrelated and hence KMeans is a suitable choice. "
   ]
  },
  {
   "cell_type": "markdown",
   "metadata": {},
   "source": [
    "**6)** Below is some starter code to help you visualize some cluster data. The visualization is based on [this demo](http://scikit-learn.org/stable/auto_examples/cluster/plot_kmeans_digits.html) from the sklearn documentation."
   ]
  },
  {
   "cell_type": "code",
   "execution_count": 37,
   "metadata": {
    "collapsed": true
   },
   "outputs": [],
   "source": [
    "# Import clustering modules\n",
    "from sklearn.cluster import KMeans\n",
    "from sklearn.mixture import GMM"
   ]
  },
  {
   "cell_type": "markdown",
   "metadata": {},
   "source": [
    "### KMeans - 2 Clusters"
   ]
  },
  {
   "cell_type": "code",
   "execution_count": 38,
   "metadata": {
    "collapsed": false
   },
   "outputs": [
    {
     "name": "stdout",
     "output_type": "stream",
     "text": [
      "[[  -650.02212207   1585.51909007]\n",
      " [  4426.80497937   4042.45150884]\n",
      " [  4841.9987068    2578.762176  ]\n",
      " [  -990.34643689  -6279.80599663]\n",
      " [-10657.99873116  -2159.72581518]\n",
      " [  2765.96159271   -959.87072713]\n",
      " [   715.55089221  -2013.00226567]\n",
      " [  4474.58366697   1429.49697204]\n",
      " [  6712.09539718  -2205.90915598]\n",
      " [  4823.63435407  13480.55920489]]\n"
     ]
    }
   ],
   "source": [
    "# TODO: First we reduce the data to two dimensions using PCA to capture variation\n",
    "reduced_data = PCA(n_components=2).fit_transform(data)\n",
    "print reduced_data[:10]  # print upto 10 elements"
   ]
  },
  {
   "cell_type": "code",
   "execution_count": 43,
   "metadata": {
    "collapsed": false
   },
   "outputs": [
    {
     "name": "stdout",
     "output_type": "stream",
     "text": [
      "KMeans(copy_x=True, init='k-means++', max_iter=300, n_clusters=2, n_init=10,\n",
      "    n_jobs=1, precompute_distances='auto', random_state=None, tol=0.0001,\n",
      "    verbose=0)\n"
     ]
    }
   ],
   "source": [
    "# TODO: Implement your clustering algorithm here, and fit it to the reduced data for visualization\n",
    "# The visualizer below assumes your clustering object is named 'clusters'\n",
    "clusters = KMeans(init='k-means++', n_clusters=2, n_init=10)\n",
    "clusters.fit(reduced_data)\n",
    "print clusters"
   ]
  },
  {
   "cell_type": "code",
   "execution_count": 44,
   "metadata": {
    "collapsed": false
   },
   "outputs": [],
   "source": [
    "# Plot the decision boundary by building a mesh grid to populate a graph.\n",
    "x_min, x_max = reduced_data[:, 0].min() - 1, reduced_data[:, 0].max() + 1\n",
    "y_min, y_max = reduced_data[:, 1].min() - 1, reduced_data[:, 1].max() + 1\n",
    "hx = (x_max-x_min)/1000.\n",
    "hy = (y_max-y_min)/1000.\n",
    "xx, yy = np.meshgrid(np.arange(x_min, x_max, hx), np.arange(y_min, y_max, hy))\n",
    "\n",
    "# Obtain labels for each point in mesh. Use last trained model.\n",
    "Z = clusters.predict(np.c_[xx.ravel(), yy.ravel()])"
   ]
  },
  {
   "cell_type": "code",
   "execution_count": 45,
   "metadata": {
    "collapsed": false
   },
   "outputs": [
    {
     "name": "stdout",
     "output_type": "stream",
     "text": [
      "[[  4175.31101293   -211.15109304]\n",
      " [-24088.33276689   1218.17938291]]\n"
     ]
    }
   ],
   "source": [
    "# TODO: Find the centroids for KMeans or the cluster means for GMM \n",
    "\n",
    "centroids = clusters.cluster_centers_\n",
    "print centroids"
   ]
  },
  {
   "cell_type": "code",
   "execution_count": 46,
   "metadata": {
    "collapsed": false
   },
   "outputs": [
    {
     "data": {
      "image/png": "[encoded data removed]",
      "text/plain": [
       "<matplotlib.figure.Figure at 0x10cebc4d0>"
      ]
     },
     "metadata": {},
     "output_type": "display_data"
    }
   ],
   "source": [
    "# Put the result into a color plot\n",
    "Z = Z.reshape(xx.shape)\n",
    "plt.figure(1)\n",
    "plt.clf()\n",
    "plt.imshow(Z, interpolation='nearest',\n",
    "           extent=(xx.min(), xx.max(), yy.min(), yy.max()),\n",
    "           cmap=plt.cm.Paired,\n",
    "           aspect='auto', origin='lower')\n",
    "\n",
    "plt.plot(reduced_data[:, 0], reduced_data[:, 1], 'k.', markersize=2)\n",
    "plt.scatter(centroids[:, 0], centroids[:, 1],\n",
    "            marker='x', s=169, linewidths=3,\n",
    "            color='w', zorder=10)\n",
    "plt.title('Clustering on the wholesale grocery dataset (PCA-reduced data)\\n'\n",
    "          'Centroids are marked with white cross')\n",
    "plt.xlim(x_min, x_max)\n",
    "plt.ylim(y_min, y_max)\n",
    "plt.xticks(())\n",
    "plt.yticks(())\n",
    "plt.show()"
   ]
  },
  {
   "cell_type": "markdown",
   "metadata": {},
   "source": [
    "### KMeans - 3 Clusters"
   ]
  },
  {
   "cell_type": "code",
   "execution_count": 56,
   "metadata": {
    "collapsed": false
   },
   "outputs": [
    {
     "name": "stdout",
     "output_type": "stream",
     "text": [
      "KMeans(copy_x=True, init='k-means++', max_iter=300, n_clusters=3, n_init=10,\n",
      "    n_jobs=1, precompute_distances='auto', random_state=None, tol=0.0001,\n",
      "    verbose=0)\n"
     ]
    }
   ],
   "source": [
    "clusters = KMeans(init='k-means++', n_clusters=3, n_init=10)\n",
    "clusters.fit(reduced_data)\n",
    "print clusters"
   ]
  },
  {
   "cell_type": "code",
   "execution_count": 57,
   "metadata": {
    "collapsed": true
   },
   "outputs": [],
   "source": [
    "# Plot the decision boundary by building a mesh grid to populate a graph.\n",
    "x_min, x_max = reduced_data[:, 0].min() - 1, reduced_data[:, 0].max() + 1\n",
    "y_min, y_max = reduced_data[:, 1].min() - 1, reduced_data[:, 1].max() + 1\n",
    "hx = (x_max-x_min)/1000.\n",
    "hy = (y_max-y_min)/1000.\n",
    "xx, yy = np.meshgrid(np.arange(x_min, x_max, hx), np.arange(y_min, y_max, hy))\n",
    "\n",
    "# Obtain labels for each point in mesh. Use last trained model.\n",
    "Z = clusters.predict(np.c_[xx.ravel(), yy.ravel()])"
   ]
  },
  {
   "cell_type": "code",
   "execution_count": 58,
   "metadata": {
    "collapsed": false
   },
   "outputs": [
    {
     "name": "stdout",
     "output_type": "stream",
     "text": [
      "[[  4106.90273941  -3168.41202086]\n",
      " [  1497.13461172  24998.27760147]\n",
      " [-24220.71188261  -4364.45560022]]\n"
     ]
    }
   ],
   "source": [
    "centroids = clusters.cluster_centers_\n",
    "print centroids"
   ]
  },
  {
   "cell_type": "code",
   "execution_count": 59,
   "metadata": {
    "collapsed": false
   },
   "outputs": [
    {
     "data": {
      "image/png": "[encoded data removed]",
      "text/plain": [
       "<matplotlib.figure.Figure at 0x10cdde0d0>"
      ]
     },
     "metadata": {},
     "output_type": "display_data"
    }
   ],
   "source": [
    "# Put the result into a color plot\n",
    "Z = Z.reshape(xx.shape)\n",
    "plt.figure(1)\n",
    "plt.clf()\n",
    "plt.imshow(Z, interpolation='nearest',\n",
    "           extent=(xx.min(), xx.max(), yy.min(), yy.max()),\n",
    "           cmap=plt.cm.Paired,\n",
    "           aspect='auto', origin='lower')\n",
    "\n",
    "plt.plot(reduced_data[:, 0], reduced_data[:, 1], 'k.', markersize=2)\n",
    "plt.scatter(centroids[:, 0], centroids[:, 1],\n",
    "            marker='x', s=169, linewidths=3,\n",
    "            color='w', zorder=10)\n",
    "plt.title('Clustering on the wholesale grocery dataset (PCA-reduced data)\\n'\n",
    "          'Centroids are marked with white cross')\n",
    "plt.xlim(x_min, x_max)\n",
    "plt.ylim(y_min, y_max)\n",
    "plt.xticks(())\n",
    "plt.yticks(())\n",
    "plt.show()"
   ]
  },
  {
   "cell_type": "markdown",
   "metadata": {},
   "source": [
    "**7)** What are the central objects in each cluster? Describe them as customers."
   ]
  },
  {
   "cell_type": "markdown",
   "metadata": {
    "collapsed": true
   },
   "source": [
    "Answer: We find that KMeans with 3 clusters represents the PCA reduced data well. From the figure above, we clearly observe that the 3 cluster centroids represent customers as follows. Recall that the PCA features, PC1 (X-axis) corresponds to group of \"Fresh and Frozen foods\" and PC2 (Y-axis) corresponds to the group of \"Milk, Grocery, Detergents_Paper\" group. \n",
    " - Small volume (amount of spending) customers across both the PCA features. \n",
    " - Customers with large amounts of spending for PC1 but relatively smaller amount of spending for PC2 products. \n",
    " - Customers with large amounts of spending for PC2 but relatively smaller amount of spending for PC1 products. "
   ]
  },
  {
   "cell_type": "markdown",
   "metadata": {},
   "source": [
    "### Conclusions\n",
    "\n",
    "** 8)** Which of these techniques did you feel gave you the most insight into the data?"
   ]
  },
  {
   "cell_type": "markdown",
   "metadata": {
    "collapsed": true
   },
   "source": [
    "Answer: PCA provides the most insight into the data. The power of PCA lies in automatically identifying any underlying structure in the data with little external input (for e.g., KMeans requires that the user specify the number of clusters). Also as shown in this project, PCA can often be used together with clustering techniques like KMeans to get more insight into the data. "
   ]
  },
  {
   "cell_type": "markdown",
   "metadata": {
    "collapsed": true
   },
   "source": [
    "**9)** How would you use that technique to help the company design new experiments?"
   ]
  },
  {
   "cell_type": "markdown",
   "metadata": {},
   "source": [
    "Answer: Based on the PCA results presented in this project, the company could improve its A/B testing by implementing the change of delivery method on one set of customers for instance, say the small volume/spending customers. Then it would immediately show that the small volume/spending customers are not happy with the evening delivery option. "
   ]
  },
  {
   "cell_type": "markdown",
   "metadata": {},
   "source": [
    "**10)** How would you use that data to help you predict future customer needs?"
   ]
  },
  {
   "cell_type": "markdown",
   "metadata": {},
   "source": [
    "Answer: These results can be used in a subsequent supervised learning problem where the company could predict the if the customer is small/large volume customer based on the PCA features and subsequently decide to adopt customized delivery methods for groups of customers. "
   ]
  }
 ],
 "metadata": {
  "kernelspec": {
   "display_name": "Python 2",
   "language": "python",
   "name": "python2"
  },
  "language_info": {
   "codemirror_mode": {
    "name": "ipython",
    "version": 2
   },
   "file_extension": ".py",
   "mimetype": "text/x-python",
   "name": "python",
   "nbconvert_exporter": "python",
   "pygments_lexer": "ipython2",
   "version": "2.7.11"
  }
 },
 "nbformat": 4,
 "nbformat_minor": 0
}
